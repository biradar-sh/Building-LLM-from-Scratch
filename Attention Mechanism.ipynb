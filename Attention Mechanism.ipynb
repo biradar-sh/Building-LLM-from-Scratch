{
 "cells": [
  {
   "cell_type": "code",
   "execution_count": 2,
   "id": "cf16a8d7-b165-4ff5-b9ce-6c25bb38de4c",
   "metadata": {},
   "outputs": [
    {
     "name": "stdout",
     "output_type": "stream",
     "text": [
      "2.5.1\n"
     ]
    }
   ],
   "source": [
    "from importlib.metadata import version\n",
    "\n",
    "print(version('torch'))"
   ]
  },
  {
   "cell_type": "code",
   "execution_count": 3,
   "id": "b5cd6455-79e0-45b3-bbb4-32dffe4c87e1",
   "metadata": {},
   "outputs": [],
   "source": [
    "import torch\n",
    "\n",
    "inputs = torch.tensor(\n",
    "  [[0.43, 0.15, 0.89], # Your     (x^1)\n",
    "   [0.55, 0.87, 0.66], # journey  (x^2)\n",
    "   [0.57, 0.85, 0.64], # starts   (x^3)\n",
    "   [0.22, 0.58, 0.33], # with     (x^4)\n",
    "   [0.77, 0.25, 0.10], # one      (x^5)\n",
    "   [0.05, 0.80, 0.55]] # step     (x^6)\n",
    ")"
   ]
  },
  {
   "cell_type": "code",
   "execution_count": 4,
   "id": "92696955-24ea-4156-a566-f4a82adbd631",
   "metadata": {},
   "outputs": [
    {
     "name": "stdout",
     "output_type": "stream",
     "text": [
      "tensor([0.9544, 1.4950, 1.4754, 0.8434, 0.7070, 1.0865])\n"
     ]
    }
   ],
   "source": [
    "# attention score\n",
    "query = inputs [1]\n",
    "attn_scores_2 = torch.empty(inputs.shape[0]) # same as rows in inputs\n",
    "for i , x_i in enumerate(inputs) :\n",
    "    attn_scores_2[i] = torch.dot(x_i, query)\n",
    "\n",
    "print(attn_scores_2)"
   ]
  },
  {
   "cell_type": "code",
   "execution_count": 6,
   "id": "07f85483-d406-4432-9b8d-6e4acd930574",
   "metadata": {},
   "outputs": [
    {
     "name": "stdout",
     "output_type": "stream",
     "text": [
      "tensor([0.1455, 0.2278, 0.2249, 0.1285, 0.1077, 0.1656])\n",
      "tensor(1.0000)\n"
     ]
    }
   ],
   "source": [
    "atten_weights_2 = attn_scores_2 / attn_scores_2.sum()\n",
    "print(atten_weights_2)\n",
    "print(atten_weights_2.sum())"
   ]
  },
  {
   "cell_type": "code",
   "execution_count": 7,
   "id": "0b4f379c-d291-4c6f-bb5f-aeb43231f2ce",
   "metadata": {},
   "outputs": [
    {
     "name": "stdout",
     "output_type": "stream",
     "text": [
      "tensor([0.1385, 0.2379, 0.2333, 0.1240, 0.1082, 0.1581])\n",
      "tensor(1.)\n"
     ]
    }
   ],
   "source": [
    "# softmax from scratch\n",
    "def softmax_naive(x):\n",
    "    return torch.exp(x) / torch.exp(x).sum(dim=0)\n",
    "\n",
    "attn_wrights_2_naive = softmax_naive(attn_scores_2)\n",
    "print(attn_wrights_2_naive)\n",
    "print(attn_wrights_2_naive.sum())"
   ]
  },
  {
   "cell_type": "code",
   "execution_count": 8,
   "id": "b23015e8-e45a-467e-8873-429d61ec0145",
   "metadata": {},
   "outputs": [
    {
     "name": "stdout",
     "output_type": "stream",
     "text": [
      "tensor([0.1385, 0.2379, 0.2333, 0.1240, 0.1082, 0.1581]) tensor(1.)\n"
     ]
    }
   ],
   "source": [
    "# pytorch softmax\n",
    "\n",
    "attn_weights_2 = torch.softmax(attn_scores_2, dim = 0)\n",
    "print(attn_weights_2, attn_weights_2.sum())"
   ]
  },
  {
   "cell_type": "code",
   "execution_count": 10,
   "id": "4a375f8f-a995-4458-988a-c8ab7cfc8fd0",
   "metadata": {},
   "outputs": [
    {
     "name": "stdout",
     "output_type": "stream",
     "text": [
      "tensor([0.4419, 0.6515, 0.5683])\n"
     ]
    }
   ],
   "source": [
    "# context vector calcualtion for query 2\n",
    "query = inputs[1]\n",
    "context_vec_2 = torch.zeros(query.shape)\n",
    "for i, x_i in enumerate(inputs):\n",
    "    context_vec_2 += attn_weights_2[i] * x_i\n",
    "print(context_vec_2)\n"
   ]
  },
  {
   "cell_type": "code",
   "execution_count": 12,
   "id": "b8d69a63-c2fb-4737-a43a-122a123cbd52",
   "metadata": {},
   "outputs": [
    {
     "name": "stdout",
     "output_type": "stream",
     "text": [
      "tensor([[0.9995, 0.9544, 0.9422, 0.4753, 0.4576, 0.6310],\n",
      "        [0.9544, 1.4950, 1.4754, 0.8434, 0.7070, 1.0865],\n",
      "        [0.9422, 1.4754, 1.4570, 0.8296, 0.7154, 1.0605],\n",
      "        [0.4753, 0.8434, 0.8296, 0.4937, 0.3474, 0.6565],\n",
      "        [0.4576, 0.7070, 0.7154, 0.3474, 0.6654, 0.2935],\n",
      "        [0.6310, 1.0865, 1.0605, 0.6565, 0.2935, 0.9450]])\n"
     ]
    }
   ],
   "source": [
    "# context vector for all elements\n",
    "attn_scores = torch.empty(6,6)\n",
    "for i, x_i in enumerate(inputs):\n",
    "    for j, x_j in enumerate(inputs):\n",
    "         attn_scores[i,j] = torch.dot(x_i , x_j)\n",
    "\n",
    "print(attn_scores)"
   ]
  },
  {
   "cell_type": "code",
   "execution_count": 14,
   "id": "66e77acb-8737-48fc-b906-e093a2c723aa",
   "metadata": {},
   "outputs": [
    {
     "name": "stdout",
     "output_type": "stream",
     "text": [
      "tensor([[0.2098, 0.2006, 0.1981, 0.1242, 0.1220, 0.1452],\n",
      "        [0.1385, 0.2379, 0.2333, 0.1240, 0.1082, 0.1581],\n",
      "        [0.1390, 0.2369, 0.2326, 0.1242, 0.1108, 0.1565],\n",
      "        [0.1435, 0.2074, 0.2046, 0.1462, 0.1263, 0.1720],\n",
      "        [0.1526, 0.1958, 0.1975, 0.1367, 0.1879, 0.1295],\n",
      "        [0.1385, 0.2184, 0.2128, 0.1420, 0.0988, 0.1896]])\n"
     ]
    }
   ],
   "source": [
    "attn_weigths = torch.softmax(attn_scores, dim = 1)\n",
    "print(attn_weigths)"
   ]
  },
  {
   "cell_type": "code",
   "execution_count": 15,
   "id": "8ca3a585-0877-4b18-9309-b830f6e0559d",
   "metadata": {},
   "outputs": [
    {
     "name": "stdout",
     "output_type": "stream",
     "text": [
      "tensor([[0.9995, 0.9544, 0.9422, 0.4753, 0.4576, 0.6310],\n",
      "        [0.9544, 1.4950, 1.4754, 0.8434, 0.7070, 1.0865],\n",
      "        [0.9422, 1.4754, 1.4570, 0.8296, 0.7154, 1.0605],\n",
      "        [0.4753, 0.8434, 0.8296, 0.4937, 0.3474, 0.6565],\n",
      "        [0.4576, 0.7070, 0.7154, 0.3474, 0.6654, 0.2935],\n",
      "        [0.6310, 1.0865, 1.0605, 0.6565, 0.2935, 0.9450]])\n"
     ]
    }
   ],
   "source": [
    "# alternative \n",
    "attn_scores = inputs @ inputs.T\n",
    "print(attn_scores)"
   ]
  },
  {
   "cell_type": "code",
   "execution_count": 19,
   "id": "6a22ded6-ab48-41f8-abd5-f08f0ce671c1",
   "metadata": {},
   "outputs": [
    {
     "name": "stdout",
     "output_type": "stream",
     "text": [
      "tensor([[0.2098, 0.2006, 0.1981, 0.1242, 0.1220, 0.1452],\n",
      "        [0.1385, 0.2379, 0.2333, 0.1240, 0.1082, 0.1581],\n",
      "        [0.1390, 0.2369, 0.2326, 0.1242, 0.1108, 0.1565],\n",
      "        [0.1435, 0.2074, 0.2046, 0.1462, 0.1263, 0.1720],\n",
      "        [0.1526, 0.1958, 0.1975, 0.1367, 0.1879, 0.1295],\n",
      "        [0.1385, 0.2184, 0.2128, 0.1420, 0.0988, 0.1896]])\n"
     ]
    }
   ],
   "source": [
    "attn_weigths = torch.softmax(attn_scores, dim =-1)\n",
    "print(attn_weigths)"
   ]
  },
  {
   "cell_type": "code",
   "execution_count": 21,
   "id": "c47d90c4-0fee-4ab3-9004-f2ff4e80fb2f",
   "metadata": {},
   "outputs": [
    {
     "name": "stdout",
     "output_type": "stream",
     "text": [
      "tensor([[0.4421, 0.5931, 0.5790],\n",
      "        [0.4419, 0.6515, 0.5683],\n",
      "        [0.4431, 0.6496, 0.5671],\n",
      "        [0.4304, 0.6298, 0.5510],\n",
      "        [0.4671, 0.5910, 0.5266],\n",
      "        [0.4177, 0.6503, 0.5645]])\n"
     ]
    }
   ],
   "source": [
    "# ALL CONTEXT VECTORS\n",
    "all_context_vecs = attn_weigths @ inputs\n",
    "print(all_context_vecs)"
   ]
  },
  {
   "cell_type": "markdown",
   "id": "9a1fc7f4-b522-41e8-94cb-f8a83ed03d34",
   "metadata": {},
   "source": [
    "## Self Attention with trainabel weights"
   ]
  },
  {
   "cell_type": "code",
   "execution_count": 23,
   "id": "7bb077eb-294b-4e0a-9cc1-db5b78e46c60",
   "metadata": {},
   "outputs": [],
   "source": [
    "x_2 = inputs[1]\n",
    "d_in = inputs.shape[1]\n",
    "d_out = 2"
   ]
  },
  {
   "cell_type": "code",
   "execution_count": 24,
   "id": "82ced811-b5a3-4552-9b56-acad23a1c33e",
   "metadata": {},
   "outputs": [],
   "source": [
    "torch.manual_seed(123)\n",
    "w_query = torch.nn.Parameter(torch.rand(d_in,d_out), requires_grad = False)\n",
    "w_key = torch.nn.Parameter(torch.rand(d_in,d_out), requires_grad = False)\n",
    "w_value = torch.nn.Parameter(torch.rand(d_in,d_out), requires_grad = False)"
   ]
  },
  {
   "cell_type": "code",
   "execution_count": 25,
   "id": "e36431c6-83d8-45c0-a5a3-b0fc37f72612",
   "metadata": {},
   "outputs": [
    {
     "name": "stdout",
     "output_type": "stream",
     "text": [
      "torch.Size([3, 2])\n"
     ]
    }
   ],
   "source": [
    "print(w_query.shape)"
   ]
  },
  {
   "cell_type": "code",
   "execution_count": 26,
   "id": "5b2d386c-d561-44c1-b23d-37aa63f72db7",
   "metadata": {},
   "outputs": [
    {
     "data": {
      "text/plain": [
       "Parameter containing:\n",
       "tensor([[0.2961, 0.5166],\n",
       "        [0.2517, 0.6886],\n",
       "        [0.0740, 0.8665]])"
      ]
     },
     "execution_count": 26,
     "metadata": {},
     "output_type": "execute_result"
    }
   ],
   "source": [
    "w_query"
   ]
  },
  {
   "cell_type": "code",
   "execution_count": 27,
   "id": "6441c432-a27d-48be-95b3-43bbcb44eb83",
   "metadata": {},
   "outputs": [
    {
     "name": "stdout",
     "output_type": "stream",
     "text": [
      "tensor([0.4306, 1.4551])\n"
     ]
    }
   ],
   "source": [
    "query_2 = x_2 @ w_query\n",
    "key_2 = x_2 @ w_key\n",
    "value_2 = x_2 @ w_value\n",
    "print(query_2)"
   ]
  },
  {
   "cell_type": "code",
   "execution_count": 28,
   "id": "defb41af-aa21-4a92-ae71-8d8868b4cf7e",
   "metadata": {},
   "outputs": [
    {
     "name": "stdout",
     "output_type": "stream",
     "text": [
      "torch.Size([6, 2])\n"
     ]
    }
   ],
   "source": [
    "keys = inputs@ w_key\n",
    "values = inputs @ w_value\n",
    "\n",
    "print(keys.shape)"
   ]
  },
  {
   "cell_type": "code",
   "execution_count": 29,
   "id": "fe631efe-6ec5-43d5-aab4-af4934c0c903",
   "metadata": {},
   "outputs": [
    {
     "name": "stdout",
     "output_type": "stream",
     "text": [
      "tensor(1.8524)\n"
     ]
    }
   ],
   "source": [
    "# calculating atten score for query 2\n",
    "keys_2 = keys[1]\n",
    "attn_score_2 = query_2.dot(keys_2)\n",
    "print(attn_score_2)"
   ]
  },
  {
   "cell_type": "code",
   "execution_count": 30,
   "id": "30022858-2bbc-4f00-9f60-a173f3549321",
   "metadata": {},
   "outputs": [
    {
     "name": "stdout",
     "output_type": "stream",
     "text": [
      "tensor([1.2705, 1.8524, 1.8111, 1.0795, 0.5577, 1.5440])\n"
     ]
    }
   ],
   "source": [
    "attn_scores_2 = query_2 @ keys.T\n",
    "print(attn_scores_2)"
   ]
  },
  {
   "cell_type": "code",
   "execution_count": 31,
   "id": "c9ffb600-6b15-4e6b-b1c5-1f27f8515700",
   "metadata": {},
   "outputs": [
    {
     "name": "stdout",
     "output_type": "stream",
     "text": [
      "tensor([0.1500, 0.2264, 0.2199, 0.1311, 0.0906, 0.1820])\n"
     ]
    }
   ],
   "source": [
    "# scaled dot product \n",
    "d_k = keys.shape[-1]\n",
    "attn_weights_2 = torch.softmax(attn_scores_2 / d_k**0.5 , dim = -1)\n",
    "print(attn_weights_2)"
   ]
  },
  {
   "cell_type": "code",
   "execution_count": 32,
   "id": "3bc52956-4f13-4564-9e5a-b91383e7b348",
   "metadata": {},
   "outputs": [
    {
     "name": "stdout",
     "output_type": "stream",
     "text": [
      "tensor([0.3061, 0.8210])\n"
     ]
    }
   ],
   "source": [
    "context_vec_2 = attn_weights_2 @ values\n",
    "print(context_vec_2)"
   ]
  },
  {
   "cell_type": "markdown",
   "id": "c38b60f1-3d79-4361-862a-2ef06b557ccb",
   "metadata": {},
   "source": [
    "## Self Attention Class"
   ]
  },
  {
   "cell_type": "code",
   "execution_count": 33,
   "id": "c6087068-e8a8-4477-b54a-0b54bed5293e",
   "metadata": {},
   "outputs": [
    {
     "name": "stdout",
     "output_type": "stream",
     "text": [
      "tensor([[0.2996, 0.8053],\n",
      "        [0.3061, 0.8210],\n",
      "        [0.3058, 0.8203],\n",
      "        [0.2948, 0.7939],\n",
      "        [0.2927, 0.7891],\n",
      "        [0.2990, 0.8040]], grad_fn=<MmBackward0>)\n"
     ]
    }
   ],
   "source": [
    "import torch.nn as nn\n",
    "\n",
    "class SelfAttention_v1(nn.Module):\n",
    "\n",
    "    def __init__(self, d_in, d_out):\n",
    "        super().__init__()\n",
    "        self.W_query = nn.Parameter(torch.rand(d_in, d_out))\n",
    "        self.W_key   = nn.Parameter(torch.rand(d_in, d_out))\n",
    "        self.W_value = nn.Parameter(torch.rand(d_in, d_out))\n",
    "\n",
    "    def forward(self, x):\n",
    "        keys = x @ self.W_key\n",
    "        queries = x @ self.W_query\n",
    "        values = x @ self.W_value\n",
    "\n",
    "        attn_scores = queries @ keys.T\n",
    "        attn_weights = torch.softmax( attn_scores/ keys.shape[-1]**0.5 , dim=-1)\n",
    "\n",
    "        context_vector = attn_weights @ values\n",
    "\n",
    "        return context_vector\n",
    "\n",
    "torch.manual_seed(123)\n",
    "sa_v1 = SelfAttention_v1(d_in, d_out)\n",
    "print(sa_v1(inputs))"
   ]
  },
  {
   "cell_type": "markdown",
   "id": "e1f96710-a04c-4d05-aaa2-8dbd7ce222df",
   "metadata": {},
   "source": [
    "## Self Attention usign Pytorch Linear Layer"
   ]
  },
  {
   "cell_type": "code",
   "execution_count": 35,
   "id": "46736eb6-5076-432b-b968-2c3b16b0f703",
   "metadata": {},
   "outputs": [
    {
     "name": "stdout",
     "output_type": "stream",
     "text": [
      "tensor([[0.5922, 0.2749],\n",
      "        [0.5869, 0.2702],\n",
      "        [0.5864, 0.2698],\n",
      "        [0.5885, 0.2713],\n",
      "        [0.5778, 0.2628],\n",
      "        [0.5935, 0.2753]], grad_fn=<MmBackward0>)\n"
     ]
    }
   ],
   "source": [
    "class SelfAttention_v2(nn.Module):\n",
    "\n",
    "    def __init__(self, d_in, d_out, qkv_bias = False):\n",
    "        super().__init__()\n",
    "        self.W_query = nn.Linear(d_in, d_out, bias = qkv_bias)\n",
    "        self.W_key   = nn.Linear(d_in, d_out, bias = qkv_bias)\n",
    "        self.W_value = nn.Linear(d_in, d_out, bias = qkv_bias)\n",
    "\n",
    "    def forward(self, x):\n",
    "        keys = self.W_key(x)\n",
    "        queries = self.W_query(x)\n",
    "        values = self.W_value(x)\n",
    "\n",
    "        attn_scores = queries @ keys.T\n",
    "        attn_weights = torch.softmax( attn_scores/ keys.shape[-1]**0.5 , dim=-1)\n",
    "\n",
    "        context_vector = attn_weights @ values\n",
    "\n",
    "        return context_vector\n",
    "\n",
    "torch.manual_seed(234)\n",
    "sa_v2 = SelfAttention_v2(d_in, d_out)\n",
    "print(sa_v2(inputs))"
   ]
  },
  {
   "cell_type": "code",
   "execution_count": 38,
   "id": "3fbef38c-7143-49b3-94a7-19904f904d33",
   "metadata": {},
   "outputs": [
    {
     "name": "stdout",
     "output_type": "stream",
     "text": [
      "odict_keys(['W_query.weight', 'W_key.weight', 'W_value.weight'])\n"
     ]
    }
   ],
   "source": [
    "state_dict_v2 = sa_v2.state_dict()\n",
    "print(state_dict_v2.keys())"
   ]
  },
  {
   "cell_type": "code",
   "execution_count": 39,
   "id": "0ff0c5f8-1eeb-4d64-a987-dd83ffb9bff2",
   "metadata": {},
   "outputs": [
    {
     "name": "stdout",
     "output_type": "stream",
     "text": [
      "torch.Size([2, 3])\n"
     ]
    }
   ],
   "source": [
    "# Extract specific weights from sa_v2 model\n",
    "W_query_weights = state_dict_v2['W_query.weight']\n",
    "W_key_weights = state_dict_v2['W_key.weight']\n",
    "W_value_weights = state_dict_v2['W_value.weight']\n",
    "\n",
    "print(W_query_weights.shape)  # transposed form"
   ]
  },
  {
   "cell_type": "code",
   "execution_count": 41,
   "id": "efc7e49e-de70-499f-9bd7-65ec38c83895",
   "metadata": {},
   "outputs": [
    {
     "name": "stdout",
     "output_type": "stream",
     "text": [
      "odict_keys(['W_query', 'W_key', 'W_value'])\n",
      "torch.Size([3, 2])\n"
     ]
    }
   ],
   "source": [
    "state_dict_v1 = sa_v1.state_dict()\n",
    "print(state_dict_v1.keys())\n",
    "\n",
    "# Extract specific weights\n",
    "W_query_weights_v1 = state_dict_v1['W_query']\n",
    "\n",
    "print(W_query_weights_v1.shape)"
   ]
  },
  {
   "cell_type": "code",
   "execution_count": 42,
   "id": "c0d947b8-d4cf-47b4-90b9-f570ba83507e",
   "metadata": {},
   "outputs": [],
   "source": [
    "sa_v1.W_query.data = W_query_weights.T\n",
    "sa_v1.W_key.data = W_key_weights.T\n",
    "sa_v1.W_value.data = W_value_weights.T"
   ]
  },
  {
   "cell_type": "code",
   "execution_count": 44,
   "id": "2bc8e71b-7f73-448a-acc0-ce2e253431f3",
   "metadata": {},
   "outputs": [
    {
     "name": "stdout",
     "output_type": "stream",
     "text": [
      "tensor([[0.5922, 0.2749],\n",
      "        [0.5869, 0.2702],\n",
      "        [0.5864, 0.2698],\n",
      "        [0.5885, 0.2713],\n",
      "        [0.5778, 0.2628],\n",
      "        [0.5935, 0.2753]], grad_fn=<MmBackward0>)\n"
     ]
    }
   ],
   "source": [
    "print(sa_v1(inputs)) # now it prints same result for both SA_v1 and sa_v2"
   ]
  },
  {
   "cell_type": "markdown",
   "id": "8d1f15e9-8198-4313-a79b-39f4079c6f71",
   "metadata": {},
   "source": [
    "## Causal Attention"
   ]
  },
  {
   "cell_type": "code",
   "execution_count": 54,
   "id": "084a4bf9-d537-4b38-a54b-6c95afdaa030",
   "metadata": {},
   "outputs": [
    {
     "name": "stdout",
     "output_type": "stream",
     "text": [
      "tensor([[0.1657, 0.1713, 0.1710, 0.1641, 0.1598, 0.1682],\n",
      "        [0.1702, 0.1642, 0.1642, 0.1676, 0.1667, 0.1672],\n",
      "        [0.1710, 0.1634, 0.1634, 0.1679, 0.1670, 0.1673],\n",
      "        [0.1666, 0.1665, 0.1665, 0.1668, 0.1671, 0.1666],\n",
      "        [0.1856, 0.1511, 0.1513, 0.1728, 0.1712, 0.1680],\n",
      "        [0.1587, 0.1737, 0.1736, 0.1638, 0.1645, 0.1658]],\n",
      "       grad_fn=<SoftmaxBackward0>)\n"
     ]
    }
   ],
   "source": [
    "queries = sa_v2.W_query(inputs)\n",
    "keys = sa_v2.W_key(inputs) \n",
    "attn_scores = queries @ keys.T\n",
    "\n",
    "attn_weights = torch.softmax(attn_scores / keys.shape[-1]**0.5, dim=-1)\n",
    "print(attn_weights)"
   ]
  },
  {
   "cell_type": "code",
   "execution_count": 55,
   "id": "be0c2958-8064-4ad9-8403-7c0b0b43954c",
   "metadata": {},
   "outputs": [
    {
     "name": "stdout",
     "output_type": "stream",
     "text": [
      "tensor([[ 0.0987,  0.1465,  0.1434,  0.0851,  0.0478,  0.1199],\n",
      "        [-0.0204, -0.0712, -0.0711, -0.0418, -0.0491, -0.0452],\n",
      "        [-0.0287, -0.0930, -0.0928, -0.0546, -0.0623, -0.0600],\n",
      "        [-0.0051, -0.0059, -0.0057, -0.0034, -0.0008, -0.0054],\n",
      "        [-0.1686, -0.4594, -0.4568, -0.2691, -0.2824, -0.3093],\n",
      "        [ 0.0737,  0.2016,  0.2005,  0.1181,  0.1242,  0.1356]],\n",
      "       grad_fn=<MmBackward0>)\n"
     ]
    }
   ],
   "source": [
    "print(attn_scores)"
   ]
  },
  {
   "cell_type": "code",
   "execution_count": null,
   "id": "6f84ff4f-c76e-4e84-8278-16e828153d5e",
   "metadata": {},
   "outputs": [],
   "source": []
  },
  {
   "cell_type": "code",
   "execution_count": null,
   "id": "22bef5ed-dea3-4445-95cb-f0d51ef27c14",
   "metadata": {},
   "outputs": [],
   "source": []
  },
  {
   "cell_type": "code",
   "execution_count": 48,
   "id": "e4d66c0f-1b5c-4ecf-abca-4ea6850eec79",
   "metadata": {},
   "outputs": [
    {
     "name": "stdout",
     "output_type": "stream",
     "text": [
      "tensor([[1., 0., 0., 0., 0., 0.],\n",
      "        [1., 1., 0., 0., 0., 0.],\n",
      "        [1., 1., 1., 0., 0., 0.],\n",
      "        [1., 1., 1., 1., 0., 0.],\n",
      "        [1., 1., 1., 1., 1., 0.],\n",
      "        [1., 1., 1., 1., 1., 1.]])\n"
     ]
    }
   ],
   "source": [
    "context_length = attn_scores.shape[0]\n",
    "mask_simple = torch.tril(torch.ones(context_length, context_length))\n",
    "print(mask_simple)\n"
   ]
  },
  {
   "cell_type": "code",
   "execution_count": null,
   "id": "62d44cfb-5f56-4040-ac0b-c73f8c06f433",
   "metadata": {},
   "outputs": [],
   "source": []
  },
  {
   "cell_type": "code",
   "execution_count": 49,
   "id": "613de6f8-1df6-404b-b514-f8a8023d4935",
   "metadata": {},
   "outputs": [
    {
     "name": "stdout",
     "output_type": "stream",
     "text": [
      "tensor([[0.1657, 0.0000, 0.0000, 0.0000, 0.0000, 0.0000],\n",
      "        [0.1702, 0.1642, 0.0000, 0.0000, 0.0000, 0.0000],\n",
      "        [0.1710, 0.1634, 0.1634, 0.0000, 0.0000, 0.0000],\n",
      "        [0.1666, 0.1665, 0.1665, 0.1668, 0.0000, 0.0000],\n",
      "        [0.1856, 0.1511, 0.1513, 0.1728, 0.1712, 0.0000],\n",
      "        [0.1587, 0.1737, 0.1736, 0.1638, 0.1645, 0.1658]],\n",
      "       grad_fn=<MulBackward0>)\n"
     ]
    }
   ],
   "source": [
    "masked_simple = attn_weights * mask_simple\n",
    "print(masked_simple)"
   ]
  },
  {
   "cell_type": "code",
   "execution_count": 50,
   "id": "8f861fe7-ccf9-42cd-90a5-2e948bf7ab0e",
   "metadata": {},
   "outputs": [
    {
     "name": "stdout",
     "output_type": "stream",
     "text": [
      "tensor([[1.0000, 0.0000, 0.0000, 0.0000, 0.0000, 0.0000],\n",
      "        [0.5090, 0.4910, 0.0000, 0.0000, 0.0000, 0.0000],\n",
      "        [0.3435, 0.3282, 0.3283, 0.0000, 0.0000, 0.0000],\n",
      "        [0.2500, 0.2498, 0.2499, 0.2503, 0.0000, 0.0000],\n",
      "        [0.2230, 0.1816, 0.1819, 0.2077, 0.2058, 0.0000],\n",
      "        [0.1587, 0.1737, 0.1736, 0.1638, 0.1645, 0.1658]],\n",
      "       grad_fn=<DivBackward0>)\n"
     ]
    }
   ],
   "source": [
    "row_sums = masked_simple.sum(dim =-1, keepdim = True)\n",
    "masked_simple_norm = masked_simple / row_sums\n",
    "print(masked_simple_norm)"
   ]
  },
  {
   "cell_type": "code",
   "execution_count": 52,
   "id": "8a41e69e-a0bd-4f85-93ed-6a75ba8697b4",
   "metadata": {},
   "outputs": [
    {
     "name": "stdout",
     "output_type": "stream",
     "text": [
      "tensor([[ 0.0987,    -inf,    -inf,    -inf,    -inf,    -inf],\n",
      "        [-0.0204, -0.0712,    -inf,    -inf,    -inf,    -inf],\n",
      "        [-0.0287, -0.0930, -0.0928,    -inf,    -inf,    -inf],\n",
      "        [-0.0051, -0.0059, -0.0057, -0.0034,    -inf,    -inf],\n",
      "        [-0.1686, -0.4594, -0.4568, -0.2691, -0.2824,    -inf],\n",
      "        [ 0.0737,  0.2016,  0.2005,  0.1181,  0.1242,  0.1356]],\n",
      "       grad_fn=<MaskedFillBackward0>)\n"
     ]
    }
   ],
   "source": [
    "mask = torch.triu(torch.ones(context_length, context_length), diagonal = 1)\n",
    "masked = attn_scores.masked_fill(mask.bool(), -torch.inf)\n",
    "print(masked)"
   ]
  },
  {
   "cell_type": "code",
   "execution_count": 56,
   "id": "be74560b-6ad8-4a66-9756-bd3da9eba2eb",
   "metadata": {},
   "outputs": [
    {
     "name": "stdout",
     "output_type": "stream",
     "text": [
      "tensor([[1.0000, 0.0000, 0.0000, 0.0000, 0.0000, 0.0000],\n",
      "        [0.5090, 0.4910, 0.0000, 0.0000, 0.0000, 0.0000],\n",
      "        [0.3435, 0.3282, 0.3283, 0.0000, 0.0000, 0.0000],\n",
      "        [0.2500, 0.2498, 0.2499, 0.2503, 0.0000, 0.0000],\n",
      "        [0.2230, 0.1816, 0.1819, 0.2077, 0.2058, 0.0000],\n",
      "        [0.1587, 0.1737, 0.1736, 0.1638, 0.1645, 0.1658]],\n",
      "       grad_fn=<SoftmaxBackward0>)\n"
     ]
    }
   ],
   "source": [
    "attn_weights = torch.softmax(masked / keys.shape[-1]**0.5, dim = -1)\n",
    "print(attn_weights)"
   ]
  },
  {
   "cell_type": "code",
   "execution_count": 59,
   "id": "f5dd384b-7ee4-4a4a-942a-568bada8ea48",
   "metadata": {},
   "outputs": [
    {
     "name": "stdout",
     "output_type": "stream",
     "text": [
      "tensor([[0.1855, 0.8812],\n",
      "        [0.2884, 0.9414],\n",
      "        [0.3208, 0.9549],\n",
      "        [0.3019, 0.8542],\n",
      "        [0.2641, 0.7406],\n",
      "        [0.2825, 0.7602]], grad_fn=<MmBackward0>)\n"
     ]
    }
   ],
   "source": [
    "context_vec = attn_weights @ values\n",
    "print(context_vec)"
   ]
  },
  {
   "cell_type": "code",
   "execution_count": 61,
   "id": "45dc60eb-a580-4620-ae16-b8638f4a56b9",
   "metadata": {},
   "outputs": [
    {
     "name": "stdout",
     "output_type": "stream",
     "text": [
      "tensor([[2., 2., 0., 2., 2., 0.],\n",
      "        [0., 0., 0., 2., 0., 2.],\n",
      "        [2., 2., 2., 2., 0., 2.],\n",
      "        [0., 2., 2., 0., 0., 2.],\n",
      "        [0., 2., 0., 2., 0., 2.],\n",
      "        [0., 2., 2., 2., 2., 0.]])\n"
     ]
    }
   ],
   "source": [
    "torch.manual_seed(123)\n",
    "dropout = torch.nn.Dropout(0.5)\n",
    "example = torch.ones(6,6)\n",
    "print(dropout(example))"
   ]
  },
  {
   "cell_type": "code",
   "execution_count": 63,
   "id": "012e8c72-6b96-40a1-8a78-739001fe0b17",
   "metadata": {},
   "outputs": [
    {
     "name": "stdout",
     "output_type": "stream",
     "text": [
      "tensor([[2.0000, 0.0000, 0.0000, 0.0000, 0.0000, 0.0000],\n",
      "        [0.0000, 0.0000, 0.0000, 0.0000, 0.0000, 0.0000],\n",
      "        [0.6870, 0.6564, 0.6566, 0.0000, 0.0000, 0.0000],\n",
      "        [0.0000, 0.4997, 0.4998, 0.0000, 0.0000, 0.0000],\n",
      "        [0.0000, 0.3631, 0.0000, 0.4155, 0.0000, 0.0000],\n",
      "        [0.0000, 0.3474, 0.3472, 0.3275, 0.3289, 0.0000]],\n",
      "       grad_fn=<MulBackward0>)\n"
     ]
    }
   ],
   "source": [
    "torch.manual_seed(123)\n",
    "print(dropout(attn_weights))"
   ]
  },
  {
   "cell_type": "markdown",
   "id": "3a55506d-8b04-4136-b58c-a4484ae4940d",
   "metadata": {},
   "source": [
    "## Compact Causal Attention Class"
   ]
  },
  {
   "cell_type": "code",
   "execution_count": 64,
   "id": "2a247fe3-aef0-49d9-a6f8-8d78691f4225",
   "metadata": {},
   "outputs": [
    {
     "name": "stdout",
     "output_type": "stream",
     "text": [
      "torch.Size([2, 6, 3])\n"
     ]
    }
   ],
   "source": [
    "batch = torch.stack((inputs, inputs), dim = 0)\n",
    "print(batch.shape)"
   ]
  },
  {
   "cell_type": "code",
   "execution_count": 65,
   "id": "78e48519-1a7f-4a4a-97db-60b05852d605",
   "metadata": {},
   "outputs": [],
   "source": [
    "class CausalAttention(nn.Module):\n",
    "\n",
    "    def __init__(self, d_in, d_out, context_length, dropout , qkv_bias = False):\n",
    "        super().__init__()\n",
    "        self.d_out = d_out\n",
    "        self.W_query = nn.Linear(d_in, d_out, bias = qkv_bias)\n",
    "        self.W_key   = nn.Linear(d_in, d_out, bias = qkv_bias)\n",
    "        self.W_value = nn.Linear(d_in, d_out, bias = qkv_bias)\n",
    "        self.dropout = nn.Dropout(dropout)\n",
    "        self.register_buffer('mask', torch.triu(torch.ones(context_length, context_length), diagonal = 1))\n",
    "\n",
    "    def forward(self, x):\n",
    "        b, num_tokens, d_in = x.shape\n",
    "        keys = self.W_key(x)\n",
    "        queries = self.W_query(x)\n",
    "        values = self.W_value(x)\n",
    "\n",
    "        attn_scores = queries @ keys.transpose(1,2)\n",
    "        attn_scores.masked_fill(self.mask.bool()[:num_tokens, :num_tokens], -torch.inf)\n",
    "        attn_weights = torch.softmax( attn_scores/ keys.shape[-1]**0.5 , dim=-1)\n",
    "\n",
    "        attn_weights = self.dropout(attn_weights)\n",
    "        \n",
    "        context_vector = attn_weights @ values\n",
    "\n",
    "        return context_vector\n"
   ]
  },
  {
   "cell_type": "code",
   "execution_count": 66,
   "id": "f0ab8a44-982b-4568-b06e-e7bc986cb42a",
   "metadata": {},
   "outputs": [
    {
     "name": "stdout",
     "output_type": "stream",
     "text": [
      "torch.Size([2, 6, 2])\n"
     ]
    }
   ],
   "source": [
    "torch.manual_seed(123)\n",
    "context_length = batch.shape[1]\n",
    "ca = CausalAttention(d_in, d_out, context_length, 0.0)\n",
    "context_vecs = ca(batch)\n",
    "print(context_vecs.shape)"
   ]
  },
  {
   "cell_type": "markdown",
   "id": "6091429d-b7be-453f-a9da-77c04fa81f3d",
   "metadata": {},
   "source": [
    "## Multi Head Attention "
   ]
  },
  {
   "cell_type": "code",
   "execution_count": 72,
   "id": "95629b2e-c8e2-416e-96f8-58b29a17ed2c",
   "metadata": {},
   "outputs": [],
   "source": [
    "class MultiHeadAttentionWrapper(nn.Module):\n",
    "    def __init__(self, d_in, d_out, context_length, dropout, num_heads, qkv_bias = False):\n",
    "        super().__init__()\n",
    "        self.heads = nn.ModuleList([\n",
    "            CausalAttention(d_in, d_out, context_length, dropout, qkv_bias) for i in range(num_heads)\n",
    "        ])\n",
    "    def forward(self, x):\n",
    "        return torch.cat([head(x) for head in self.heads], dim = -1)\n",
    "        "
   ]
  },
  {
   "cell_type": "code",
   "execution_count": 75,
   "id": "a807c419-bc3d-45cb-a3c2-eddf6fc8219d",
   "metadata": {},
   "outputs": [
    {
     "name": "stdout",
     "output_type": "stream",
     "text": [
      "torch.Size([2, 6, 4])\n"
     ]
    }
   ],
   "source": [
    "torch.manual_seed(123)\n",
    "context_length = batch.shape[1]\n",
    "d_in, d_out = 3 , 2\n",
    "mha = MultiHeadAttentionWrapper(d_in, d_out, context_length, 0.0, num_heads =2)\n",
    "context_vecs = mha(batch)\n",
    "print(context_vecs.shape)"
   ]
  },
  {
   "cell_type": "code",
   "execution_count": 82,
   "id": "3fb90ade-5d28-4db3-a5a3-4b7e86af20dc",
   "metadata": {},
   "outputs": [
    {
     "name": "stdout",
     "output_type": "stream",
     "text": [
      "x torch.Size([2, 6, 3])\n",
      "key Linear(in_features=3, out_features=2, bias=False)\n",
      "keys torch.Size([2, 6, 2])\n",
      "values torch.Size([2, 6, 2, 1])\n",
      "values torch.Size([2, 2, 6, 1])\n",
      "attn_scores torch.Size([2, 2, 6, 6])\n",
      "attn_weights torch.Size([2, 2, 6, 6])\n",
      "context_vec torch.Size([2, 6, 2, 1])\n",
      "context_vec torch.Size([2, 6, 2])\n",
      "context_vec torch.Size([2, 6, 2])\n",
      "tensor([[[0.2427, 0.5651],\n",
      "         [0.2409, 0.5643],\n",
      "         [0.2410, 0.5643],\n",
      "         [0.2405, 0.5648],\n",
      "         [0.2413, 0.5650],\n",
      "         [0.2403, 0.5646]],\n",
      "\n",
      "        [[0.2427, 0.5651],\n",
      "         [0.2409, 0.5643],\n",
      "         [0.2410, 0.5643],\n",
      "         [0.2405, 0.5648],\n",
      "         [0.2413, 0.5650],\n",
      "         [0.2403, 0.5646]]], grad_fn=<ViewBackward0>)\n",
      "context_vecs.shape: torch.Size([2, 6, 2])\n"
     ]
    }
   ],
   "source": [
    "#Combining it all together\n",
    "\n",
    "class MultiHeadAttention(nn.Module):\n",
    "    def __init__(self, d_in, d_out, context_length, dropout, num_heads, qkv_bias =False):\n",
    "        super().__init__()\n",
    "        assert (d_out % num_heads == 0), \\\n",
    "            \"d_out must be divisible by num_heads\"\n",
    "\n",
    "        self.d_out = d_out\n",
    "        self.num_heads = num_heads\n",
    "        self.head_dim = d_out // num_heads\n",
    "\n",
    "        self.W_query = nn.Linear(d_in, d_out, bias=qkv_bias)\n",
    "        self.W_key = nn.Linear(d_in, d_out, bias=qkv_bias)\n",
    "        self.W_value = nn.Linear(d_in, d_out, bias=qkv_bias)\n",
    "\n",
    "        self.out_proj = nn.Linear(d_out, d_out)\n",
    "        self.dropout = nn.Dropout(dropout)\n",
    "        self.register_buffer('mask', torch.triu(torch.ones(context_length, context_length), diagonal = 1))\n",
    "\n",
    "    def forward(self, x):\n",
    "        b, num_tokens, d_in = x.shape\n",
    "        print('x',x.shape)\n",
    "        print('key',self.W_key)\n",
    "\n",
    "        keys = self.W_key(x)\n",
    "        print('keys',keys.shape)\n",
    "        queries = self.W_query(x)\n",
    "        values = self.W_query(x)\n",
    "\n",
    "        keys = keys.view(b, num_tokens, self.num_heads, self.head_dim)\n",
    "        values = values.view(b, num_tokens, self.num_heads, self.head_dim)\n",
    "        print('values',values.shape)\n",
    "        queries = queries.view(b, num_tokens, self.num_heads, self.head_dim)\n",
    "\n",
    "        keys = keys.transpose(1,2)\n",
    "        values = values.transpose(1,2)\n",
    "        print('values',values.shape)\n",
    "        queries = queries.transpose(1,2)\n",
    "\n",
    "        attn_scores = queries @ keys.transpose(2,3)\n",
    "        print('attn_scores',attn_scores.shape)\n",
    "\n",
    "        mask_bool = self.mask.bool()[:num_tokens, : num_tokens]\n",
    "        attn_scores.masked_fill(mask_bool, -torch.inf)\n",
    "\n",
    "        attn_weights = torch.softmax(attn_scores/keys.shape[-1]**0.5, dim=-1)\n",
    "        attn_weights = self.dropout(attn_weights)\n",
    "        print('attn_weights',attn_weights.shape)\n",
    "\n",
    "        context_vec = (attn_weights @ values).transpose(1,2)\n",
    "        print('context_vec',context_vec.shape)\n",
    "        context_vec = context_vec.contiguous().view(b,num_tokens,self.d_out)\n",
    "        print('context_vec',context_vec.shape)\n",
    "        context_vec = self.out_proj(context_vec)\n",
    "        print('context_vec',context_vec.shape)\n",
    "\n",
    "        return context_vec\n",
    "\n",
    "torch.manual_seed(123)\n",
    "batch_size, context_length, d_in = batch.shape\n",
    "d_out = 2\n",
    "mha = MultiHeadAttention(d_in, d_out, context_length, 0.0, num_heads=2)\n",
    "\n",
    "context_vecs = mha(batch)\n",
    "\n",
    "print(context_vecs)\n",
    "print(\"context_vecs.shape:\", context_vecs.shape)"
   ]
  },
  {
   "cell_type": "code",
   "execution_count": 84,
   "id": "ed498155-5504-49a5-8ea0-bbe30da579ea",
   "metadata": {},
   "outputs": [
    {
     "name": "stdout",
     "output_type": "stream",
     "text": [
      "x torch.Size([2, 6, 3])\n",
      "key Linear(in_features=768, out_features=768, bias=False)\n"
     ]
    },
    {
     "ename": "RuntimeError",
     "evalue": "mat1 and mat2 shapes cannot be multiplied (12x3 and 768x768)",
     "output_type": "error",
     "traceback": [
      "\u001b[0;31m---------------------------------------------------------------------------\u001b[0m",
      "\u001b[0;31mRuntimeError\u001b[0m                              Traceback (most recent call last)",
      "Cell \u001b[0;32mIn[84], line 5\u001b[0m\n\u001b[1;32m      3\u001b[0m num_heads \u001b[38;5;241m=\u001b[39m \u001b[38;5;241m12\u001b[39m\n\u001b[1;32m      4\u001b[0m mha \u001b[38;5;241m=\u001b[39m MultiHeadAttention(d_in, d_out, context_length, \u001b[38;5;241m0.0\u001b[39m, num_heads)\n\u001b[0;32m----> 5\u001b[0m context_vecs \u001b[38;5;241m=\u001b[39m \u001b[43mmha\u001b[49m\u001b[43m(\u001b[49m\u001b[43mbatch\u001b[49m\u001b[43m)\u001b[49m\n\u001b[1;32m      6\u001b[0m \u001b[38;5;28mprint\u001b[39m(\u001b[38;5;124m\"\u001b[39m\u001b[38;5;124mcontext_vecs.shape:\u001b[39m\u001b[38;5;124m\"\u001b[39m, context_vecs\u001b[38;5;241m.\u001b[39mshape)\n",
      "File \u001b[0;32m~/miniforge3/envs/pytorch-test/lib/python3.10/site-packages/torch/nn/modules/module.py:1736\u001b[0m, in \u001b[0;36mModule._wrapped_call_impl\u001b[0;34m(self, *args, **kwargs)\u001b[0m\n\u001b[1;32m   1734\u001b[0m     \u001b[38;5;28;01mreturn\u001b[39;00m \u001b[38;5;28mself\u001b[39m\u001b[38;5;241m.\u001b[39m_compiled_call_impl(\u001b[38;5;241m*\u001b[39margs, \u001b[38;5;241m*\u001b[39m\u001b[38;5;241m*\u001b[39mkwargs)  \u001b[38;5;66;03m# type: ignore[misc]\u001b[39;00m\n\u001b[1;32m   1735\u001b[0m \u001b[38;5;28;01melse\u001b[39;00m:\n\u001b[0;32m-> 1736\u001b[0m     \u001b[38;5;28;01mreturn\u001b[39;00m \u001b[38;5;28;43mself\u001b[39;49m\u001b[38;5;241;43m.\u001b[39;49m\u001b[43m_call_impl\u001b[49m\u001b[43m(\u001b[49m\u001b[38;5;241;43m*\u001b[39;49m\u001b[43margs\u001b[49m\u001b[43m,\u001b[49m\u001b[43m \u001b[49m\u001b[38;5;241;43m*\u001b[39;49m\u001b[38;5;241;43m*\u001b[39;49m\u001b[43mkwargs\u001b[49m\u001b[43m)\u001b[49m\n",
      "File \u001b[0;32m~/miniforge3/envs/pytorch-test/lib/python3.10/site-packages/torch/nn/modules/module.py:1747\u001b[0m, in \u001b[0;36mModule._call_impl\u001b[0;34m(self, *args, **kwargs)\u001b[0m\n\u001b[1;32m   1742\u001b[0m \u001b[38;5;66;03m# If we don't have any hooks, we want to skip the rest of the logic in\u001b[39;00m\n\u001b[1;32m   1743\u001b[0m \u001b[38;5;66;03m# this function, and just call forward.\u001b[39;00m\n\u001b[1;32m   1744\u001b[0m \u001b[38;5;28;01mif\u001b[39;00m \u001b[38;5;129;01mnot\u001b[39;00m (\u001b[38;5;28mself\u001b[39m\u001b[38;5;241m.\u001b[39m_backward_hooks \u001b[38;5;129;01mor\u001b[39;00m \u001b[38;5;28mself\u001b[39m\u001b[38;5;241m.\u001b[39m_backward_pre_hooks \u001b[38;5;129;01mor\u001b[39;00m \u001b[38;5;28mself\u001b[39m\u001b[38;5;241m.\u001b[39m_forward_hooks \u001b[38;5;129;01mor\u001b[39;00m \u001b[38;5;28mself\u001b[39m\u001b[38;5;241m.\u001b[39m_forward_pre_hooks\n\u001b[1;32m   1745\u001b[0m         \u001b[38;5;129;01mor\u001b[39;00m _global_backward_pre_hooks \u001b[38;5;129;01mor\u001b[39;00m _global_backward_hooks\n\u001b[1;32m   1746\u001b[0m         \u001b[38;5;129;01mor\u001b[39;00m _global_forward_hooks \u001b[38;5;129;01mor\u001b[39;00m _global_forward_pre_hooks):\n\u001b[0;32m-> 1747\u001b[0m     \u001b[38;5;28;01mreturn\u001b[39;00m \u001b[43mforward_call\u001b[49m\u001b[43m(\u001b[49m\u001b[38;5;241;43m*\u001b[39;49m\u001b[43margs\u001b[49m\u001b[43m,\u001b[49m\u001b[43m \u001b[49m\u001b[38;5;241;43m*\u001b[39;49m\u001b[38;5;241;43m*\u001b[39;49m\u001b[43mkwargs\u001b[49m\u001b[43m)\u001b[49m\n\u001b[1;32m   1749\u001b[0m result \u001b[38;5;241m=\u001b[39m \u001b[38;5;28;01mNone\u001b[39;00m\n\u001b[1;32m   1750\u001b[0m called_always_called_hooks \u001b[38;5;241m=\u001b[39m \u001b[38;5;28mset\u001b[39m()\n",
      "Cell \u001b[0;32mIn[82], line 26\u001b[0m, in \u001b[0;36mMultiHeadAttention.forward\u001b[0;34m(self, x)\u001b[0m\n\u001b[1;32m     23\u001b[0m \u001b[38;5;28mprint\u001b[39m(\u001b[38;5;124m'\u001b[39m\u001b[38;5;124mx\u001b[39m\u001b[38;5;124m'\u001b[39m,x\u001b[38;5;241m.\u001b[39mshape)\n\u001b[1;32m     24\u001b[0m \u001b[38;5;28mprint\u001b[39m(\u001b[38;5;124m'\u001b[39m\u001b[38;5;124mkey\u001b[39m\u001b[38;5;124m'\u001b[39m,\u001b[38;5;28mself\u001b[39m\u001b[38;5;241m.\u001b[39mW_key)\n\u001b[0;32m---> 26\u001b[0m keys \u001b[38;5;241m=\u001b[39m \u001b[38;5;28;43mself\u001b[39;49m\u001b[38;5;241;43m.\u001b[39;49m\u001b[43mW_key\u001b[49m\u001b[43m(\u001b[49m\u001b[43mx\u001b[49m\u001b[43m)\u001b[49m\n\u001b[1;32m     27\u001b[0m \u001b[38;5;28mprint\u001b[39m(\u001b[38;5;124m'\u001b[39m\u001b[38;5;124mkeys\u001b[39m\u001b[38;5;124m'\u001b[39m,keys\u001b[38;5;241m.\u001b[39mshape)\n\u001b[1;32m     28\u001b[0m queries \u001b[38;5;241m=\u001b[39m \u001b[38;5;28mself\u001b[39m\u001b[38;5;241m.\u001b[39mW_query(x)\n",
      "File \u001b[0;32m~/miniforge3/envs/pytorch-test/lib/python3.10/site-packages/torch/nn/modules/module.py:1736\u001b[0m, in \u001b[0;36mModule._wrapped_call_impl\u001b[0;34m(self, *args, **kwargs)\u001b[0m\n\u001b[1;32m   1734\u001b[0m     \u001b[38;5;28;01mreturn\u001b[39;00m \u001b[38;5;28mself\u001b[39m\u001b[38;5;241m.\u001b[39m_compiled_call_impl(\u001b[38;5;241m*\u001b[39margs, \u001b[38;5;241m*\u001b[39m\u001b[38;5;241m*\u001b[39mkwargs)  \u001b[38;5;66;03m# type: ignore[misc]\u001b[39;00m\n\u001b[1;32m   1735\u001b[0m \u001b[38;5;28;01melse\u001b[39;00m:\n\u001b[0;32m-> 1736\u001b[0m     \u001b[38;5;28;01mreturn\u001b[39;00m \u001b[38;5;28;43mself\u001b[39;49m\u001b[38;5;241;43m.\u001b[39;49m\u001b[43m_call_impl\u001b[49m\u001b[43m(\u001b[49m\u001b[38;5;241;43m*\u001b[39;49m\u001b[43margs\u001b[49m\u001b[43m,\u001b[49m\u001b[43m \u001b[49m\u001b[38;5;241;43m*\u001b[39;49m\u001b[38;5;241;43m*\u001b[39;49m\u001b[43mkwargs\u001b[49m\u001b[43m)\u001b[49m\n",
      "File \u001b[0;32m~/miniforge3/envs/pytorch-test/lib/python3.10/site-packages/torch/nn/modules/module.py:1747\u001b[0m, in \u001b[0;36mModule._call_impl\u001b[0;34m(self, *args, **kwargs)\u001b[0m\n\u001b[1;32m   1742\u001b[0m \u001b[38;5;66;03m# If we don't have any hooks, we want to skip the rest of the logic in\u001b[39;00m\n\u001b[1;32m   1743\u001b[0m \u001b[38;5;66;03m# this function, and just call forward.\u001b[39;00m\n\u001b[1;32m   1744\u001b[0m \u001b[38;5;28;01mif\u001b[39;00m \u001b[38;5;129;01mnot\u001b[39;00m (\u001b[38;5;28mself\u001b[39m\u001b[38;5;241m.\u001b[39m_backward_hooks \u001b[38;5;129;01mor\u001b[39;00m \u001b[38;5;28mself\u001b[39m\u001b[38;5;241m.\u001b[39m_backward_pre_hooks \u001b[38;5;129;01mor\u001b[39;00m \u001b[38;5;28mself\u001b[39m\u001b[38;5;241m.\u001b[39m_forward_hooks \u001b[38;5;129;01mor\u001b[39;00m \u001b[38;5;28mself\u001b[39m\u001b[38;5;241m.\u001b[39m_forward_pre_hooks\n\u001b[1;32m   1745\u001b[0m         \u001b[38;5;129;01mor\u001b[39;00m _global_backward_pre_hooks \u001b[38;5;129;01mor\u001b[39;00m _global_backward_hooks\n\u001b[1;32m   1746\u001b[0m         \u001b[38;5;129;01mor\u001b[39;00m _global_forward_hooks \u001b[38;5;129;01mor\u001b[39;00m _global_forward_pre_hooks):\n\u001b[0;32m-> 1747\u001b[0m     \u001b[38;5;28;01mreturn\u001b[39;00m \u001b[43mforward_call\u001b[49m\u001b[43m(\u001b[49m\u001b[38;5;241;43m*\u001b[39;49m\u001b[43margs\u001b[49m\u001b[43m,\u001b[49m\u001b[43m \u001b[49m\u001b[38;5;241;43m*\u001b[39;49m\u001b[38;5;241;43m*\u001b[39;49m\u001b[43mkwargs\u001b[49m\u001b[43m)\u001b[49m\n\u001b[1;32m   1749\u001b[0m result \u001b[38;5;241m=\u001b[39m \u001b[38;5;28;01mNone\u001b[39;00m\n\u001b[1;32m   1750\u001b[0m called_always_called_hooks \u001b[38;5;241m=\u001b[39m \u001b[38;5;28mset\u001b[39m()\n",
      "File \u001b[0;32m~/miniforge3/envs/pytorch-test/lib/python3.10/site-packages/torch/nn/modules/linear.py:125\u001b[0m, in \u001b[0;36mLinear.forward\u001b[0;34m(self, input)\u001b[0m\n\u001b[1;32m    124\u001b[0m \u001b[38;5;28;01mdef\u001b[39;00m\u001b[38;5;250m \u001b[39m\u001b[38;5;21mforward\u001b[39m(\u001b[38;5;28mself\u001b[39m, \u001b[38;5;28minput\u001b[39m: Tensor) \u001b[38;5;241m-\u001b[39m\u001b[38;5;241m>\u001b[39m Tensor:\n\u001b[0;32m--> 125\u001b[0m     \u001b[38;5;28;01mreturn\u001b[39;00m \u001b[43mF\u001b[49m\u001b[38;5;241;43m.\u001b[39;49m\u001b[43mlinear\u001b[49m\u001b[43m(\u001b[49m\u001b[38;5;28;43minput\u001b[39;49m\u001b[43m,\u001b[49m\u001b[43m \u001b[49m\u001b[38;5;28;43mself\u001b[39;49m\u001b[38;5;241;43m.\u001b[39;49m\u001b[43mweight\u001b[49m\u001b[43m,\u001b[49m\u001b[43m \u001b[49m\u001b[38;5;28;43mself\u001b[39;49m\u001b[38;5;241;43m.\u001b[39;49m\u001b[43mbias\u001b[49m\u001b[43m)\u001b[49m\n",
      "\u001b[0;31mRuntimeError\u001b[0m: mat1 and mat2 shapes cannot be multiplied (12x3 and 768x768)"
     ]
    }
   ],
   "source": [
    "context_length = 1024\n",
    "d_in, d_out = 768, 768\n",
    "num_heads = 12\n",
    "mha = MultiHeadAttention(d_in, d_out, context_length, 0.0, num_heads)\n",
    "context_vecs = mha(batch)\n",
    "print(\"context_vecs.shape:\", context_vecs.shape)"
   ]
  }
 ],
 "metadata": {
  "kernelspec": {
   "display_name": "Python 3 (ipykernel)",
   "language": "python",
   "name": "python3"
  },
  "language_info": {
   "codemirror_mode": {
    "name": "ipython",
    "version": 3
   },
   "file_extension": ".py",
   "mimetype": "text/x-python",
   "name": "python",
   "nbconvert_exporter": "python",
   "pygments_lexer": "ipython3",
   "version": "3.10.16"
  }
 },
 "nbformat": 4,
 "nbformat_minor": 5
}
