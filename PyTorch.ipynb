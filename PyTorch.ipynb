{
 "cells": [
  {
   "cell_type": "markdown",
   "id": "e0c8d754-20f4-4aa8-b840-947255695c1b",
   "metadata": {},
   "source": [
    "## PyTorch Excercises"
   ]
  },
  {
   "cell_type": "code",
   "execution_count": 14,
   "id": "e3112ed0-8acb-4467-9c80-997a37eb49d1",
   "metadata": {},
   "outputs": [],
   "source": [
    "import torch\n",
    "import numpy as np"
   ]
  },
  {
   "cell_type": "code",
   "execution_count": 2,
   "id": "99c802c8-ddec-413c-af6f-1fc2610378d0",
   "metadata": {},
   "outputs": [
    {
     "name": "stdout",
     "output_type": "stream",
     "text": [
      "2.5.1\n"
     ]
    }
   ],
   "source": [
    "print(torch.__version__)"
   ]
  },
  {
   "cell_type": "code",
   "execution_count": 4,
   "id": "454ea989-0fd1-4910-bd4c-266b04cc0ca9",
   "metadata": {},
   "outputs": [
    {
     "name": "stdout",
     "output_type": "stream",
     "text": [
      "True\n"
     ]
    }
   ],
   "source": [
    "print(torch.backends.mps.is_available()) # for mac silicon chip(M1, M2...)"
   ]
  },
  {
   "cell_type": "code",
   "execution_count": 6,
   "id": "8e7333a5-2aab-4bd6-b4fe-dded4bf62a6d",
   "metadata": {},
   "outputs": [],
   "source": [
    "tensor0d = torch.tensor(1)  #scalar tensor with rank 0\n",
    "tensor1d = torch.tensor([1,2,3])\n",
    "tensor2d = torch.tensor([[1,2],\n",
    "                         [3,4]])\n",
    "tensor3d = torch.tensor([[[1,2], [3,4]],\n",
    "                         [[5,6], [7,8]]])"
   ]
  },
  {
   "cell_type": "code",
   "execution_count": 7,
   "id": "12e158f7-6a90-4a1d-a243-888482bcd0ca",
   "metadata": {},
   "outputs": [
    {
     "name": "stdout",
     "output_type": "stream",
     "text": [
      "tensor([[[1, 2],\n",
      "         [3, 4]],\n",
      "\n",
      "        [[5, 6],\n",
      "         [7, 8]]])\n"
     ]
    }
   ],
   "source": [
    "print(tensor3d)"
   ]
  },
  {
   "cell_type": "code",
   "execution_count": 12,
   "id": "8feb6104-23af-4abd-9fff-8d44d5176c47",
   "metadata": {},
   "outputs": [
    {
     "name": "stdout",
     "output_type": "stream",
     "text": [
      "torch.int64\n"
     ]
    }
   ],
   "source": [
    "print(tensor3d.dtype)"
   ]
  },
  {
   "cell_type": "code",
   "execution_count": 17,
   "id": "c5f62f80-6971-4225-8ba8-13f3096715ff",
   "metadata": {},
   "outputs": [
    {
     "name": "stdout",
     "output_type": "stream",
     "text": [
      "[[[1 2]\n",
      "  [3 4]]\n",
      "\n",
      " [[5 6]\n",
      "  [7 8]]]\n"
     ]
    }
   ],
   "source": [
    "aray3d = np.array([[[1, 2], [3, 4]], \n",
    "                  [[5, 6], [7, 8]]])\n",
    "\n",
    "print(aray3d)"
   ]
  },
  {
   "cell_type": "code",
   "execution_count": 18,
   "id": "51ddf754-a89b-42cd-913d-4b86a3eaac24",
   "metadata": {},
   "outputs": [
    {
     "name": "stdout",
     "output_type": "stream",
     "text": [
      "int64\n"
     ]
    }
   ],
   "source": [
    "print(aray3d.dtype)"
   ]
  },
  {
   "cell_type": "code",
   "execution_count": 19,
   "id": "20574f97-7be3-486c-8fbd-48a65169a0ba",
   "metadata": {},
   "outputs": [
    {
     "name": "stdout",
     "output_type": "stream",
     "text": [
      "tensor([[[1, 2],\n",
      "         [3, 4]],\n",
      "\n",
      "        [[5, 6],\n",
      "         [7, 8]]])\n"
     ]
    }
   ],
   "source": [
    "tensor3d_2 = torch.tensor(aray3d)\n",
    "tensor3d_3 = torch.from_numpy(aray3d)\n",
    "\n",
    "aray3d[0,0,0] = 999\n",
    "\n",
    "print(tensor3d_2)  # remains unchaged\n"
   ]
  },
  {
   "cell_type": "code",
   "execution_count": 20,
   "id": "08d4b36b-b6b8-44f6-850d-f86d95a5e824",
   "metadata": {},
   "outputs": [
    {
     "name": "stdout",
     "output_type": "stream",
     "text": [
      "tensor([[[999,   2],\n",
      "         [  3,   4]],\n",
      "\n",
      "        [[  5,   6],\n",
      "         [  7,   8]]])\n"
     ]
    }
   ],
   "source": [
    "print(tensor3d_3) #changed, because of memory sharing"
   ]
  },
  {
   "cell_type": "code",
   "execution_count": 27,
   "id": "cf1e15c1-0938-4458-a398-0c40f42c8771",
   "metadata": {},
   "outputs": [
    {
     "name": "stdout",
     "output_type": "stream",
     "text": [
      "torch.Size([2, 3])\n"
     ]
    }
   ],
   "source": [
    "tensor2d = torch.tensor([[1,2,3],\n",
    "                        [4,5,6]])\n",
    "print(tensor2d.shape)"
   ]
  },
  {
   "cell_type": "code",
   "execution_count": 26,
   "id": "aa203379-961f-4dea-a317-7c53516707c1",
   "metadata": {},
   "outputs": [
    {
     "name": "stdout",
     "output_type": "stream",
     "text": [
      "tensor([[1, 2],\n",
      "        [3, 4],\n",
      "        [5, 6]])\n"
     ]
    }
   ],
   "source": [
    "print(tensor2d.reshape(3,2))"
   ]
  },
  {
   "cell_type": "code",
   "execution_count": 28,
   "id": "9afe97be-7a69-469b-8477-d3a82a0df69d",
   "metadata": {},
   "outputs": [
    {
     "name": "stdout",
     "output_type": "stream",
     "text": [
      "tensor([[1, 2],\n",
      "        [3, 4],\n",
      "        [5, 6]])\n"
     ]
    }
   ],
   "source": [
    "print(tensor2d.view(3,2))"
   ]
  },
  {
   "cell_type": "code",
   "execution_count": 29,
   "id": "aee1068f-f1cd-40b9-82c6-3bcdfa0514a3",
   "metadata": {},
   "outputs": [
    {
     "name": "stdout",
     "output_type": "stream",
     "text": [
      "tensor([[1, 4],\n",
      "        [2, 5],\n",
      "        [3, 6]])\n"
     ]
    }
   ],
   "source": [
    "print(tensor2d.T)"
   ]
  },
  {
   "cell_type": "code",
   "execution_count": 30,
   "id": "95b69586-ec4a-47d0-afe1-774cf4ff78c6",
   "metadata": {},
   "outputs": [
    {
     "name": "stdout",
     "output_type": "stream",
     "text": [
      "tensor([[14, 32],\n",
      "        [32, 77]])\n"
     ]
    }
   ],
   "source": [
    "print(tensor2d.matmul(tensor2d.T))"
   ]
  },
  {
   "cell_type": "code",
   "execution_count": 31,
   "id": "081d55a5-dd74-4578-ba6f-ae3a1de1d442",
   "metadata": {},
   "outputs": [
    {
     "name": "stdout",
     "output_type": "stream",
     "text": [
      "tensor([[14, 32],\n",
      "        [32, 77]])\n"
     ]
    }
   ],
   "source": [
    "print(tensor2d @ tensor2d.T) # does the same but more compactly"
   ]
  },
  {
   "cell_type": "markdown",
   "id": "8770a27b-4047-4a8e-8014-20b4a48f733f",
   "metadata": {},
   "source": [
    "## Logistics Regression Forward Pass"
   ]
  },
  {
   "cell_type": "code",
   "execution_count": 35,
   "id": "47b87c6f-8a8d-4662-9f0a-b33074149922",
   "metadata": {},
   "outputs": [
    {
     "name": "stdout",
     "output_type": "stream",
     "text": [
      "z tensor([2.4200], grad_fn=<AddBackward0>)\n",
      "a tensor([0.9183], grad_fn=<SigmoidBackward0>)\n",
      "loss tensor(0.0852, grad_fn=<BinaryCrossEntropyBackward0>)\n",
      "tensor([-0.0898])\n",
      "tensor([-0.0817])\n"
     ]
    }
   ],
   "source": [
    "import torch.nn.functional as F\n",
    "\n",
    "y = torch.tensor([1.0])\n",
    "x1 = torch.tensor([1.1])\n",
    "w1 = torch.tensor([2.2] , requires_grad = True)\n",
    "b = torch.tensor([0.0] ,requires_grad = True)\n",
    "z = x1 * w1 + b\n",
    "\n",
    "print('z',z)\n",
    "\n",
    "a = torch.sigmoid(z)\n",
    "print('a', a)\n",
    "\n",
    "loss = F.binary_cross_entropy(a,y)\n",
    "print('loss', loss)\n",
    "\n",
    "loss.backward()\n",
    "\n",
    "print(w1.grad)\n",
    "print(b.grad)"
   ]
  },
  {
   "cell_type": "code",
   "execution_count": null,
   "id": "3ba947d5-8333-41b2-b823-49a1e76bd33a",
   "metadata": {},
   "outputs": [],
   "source": []
  },
  {
   "cell_type": "markdown",
   "id": "4ca36e24-eb3f-4b74-8412-1bfb5181a849",
   "metadata": {},
   "source": [
    "## Implemention Multi Layer Neural Network"
   ]
  },
  {
   "cell_type": "code",
   "execution_count": null,
   "id": "372f6628-b583-47fc-93b1-74d1cae7e6ff",
   "metadata": {},
   "outputs": [],
   "source": []
  },
  {
   "cell_type": "code",
   "execution_count": 36,
   "id": "18648721-f94d-4b8b-9b0c-d4a8a3d8416b",
   "metadata": {},
   "outputs": [],
   "source": [
    "class NeuralNetwork(torch.nn.Module):\n",
    "    def __init__(self, num_inputs, num_outputs):\n",
    "        super().__init__()\n",
    "\n",
    "        self.layers = torch.nn.Sequential(\n",
    "            #1st hidden layer\n",
    "            torch.nn.Linear(num_inputs, 30),\n",
    "            torch.nn.ReLU(),\n",
    "\n",
    "            #2nd Hidden Layer\n",
    "            torch.nn.Linear(30,20),\n",
    "            torch.nn.ReLU(),\n",
    "\n",
    "            #output layer\n",
    "            torch.nn.Linear(20, num_outputs),\n",
    "        )\n",
    "\n",
    "    def forward(self, x):\n",
    "        logits = self.layers(x)\n",
    "        return logits\n",
    "\n",
    "        "
   ]
  },
  {
   "cell_type": "code",
   "execution_count": 38,
   "id": "eda1515e-5248-4006-91e7-f57698f70ca1",
   "metadata": {},
   "outputs": [],
   "source": [
    "model = NeuralNetwork(50 , 3)"
   ]
  },
  {
   "cell_type": "code",
   "execution_count": 39,
   "id": "25f2c92e-7e03-4791-887f-95e6c4f66c1d",
   "metadata": {},
   "outputs": [
    {
     "name": "stdout",
     "output_type": "stream",
     "text": [
      "NeuralNetwork(\n",
      "  (layers): Sequential(\n",
      "    (0): Linear(in_features=50, out_features=30, bias=True)\n",
      "    (1): ReLU()\n",
      "    (2): Linear(in_features=30, out_features=20, bias=True)\n",
      "    (3): ReLU()\n",
      "    (4): Linear(in_features=20, out_features=3, bias=True)\n",
      "  )\n",
      ")\n"
     ]
    }
   ],
   "source": [
    "print(model)"
   ]
  },
  {
   "cell_type": "code",
   "execution_count": 40,
   "id": "082cf529-7784-4741-b523-890589901bc1",
   "metadata": {},
   "outputs": [
    {
     "name": "stdout",
     "output_type": "stream",
     "text": [
      "2213\n"
     ]
    }
   ],
   "source": [
    "num_params = sum(p.numel() for p in model.parameters() if p.requires_grad)\n",
    "print(num_params)"
   ]
  },
  {
   "cell_type": "code",
   "execution_count": 41,
   "id": "065b0fa1-d2ee-45b7-8cf4-cec2d09b00a4",
   "metadata": {},
   "outputs": [
    {
     "name": "stdout",
     "output_type": "stream",
     "text": [
      "Parameter containing:\n",
      "tensor([[-0.0638, -0.1205, -0.0073,  ..., -0.0409,  0.1127, -0.0998],\n",
      "        [ 0.0574,  0.0846, -0.0344,  ...,  0.1202, -0.0602,  0.0046],\n",
      "        [ 0.0269,  0.0763,  0.1246,  ...,  0.0533,  0.1044,  0.0038],\n",
      "        ...,\n",
      "        [-0.1143, -0.0622, -0.0645,  ..., -0.0420,  0.0669, -0.1327],\n",
      "        [ 0.1154,  0.1063,  0.0758,  ..., -0.0080, -0.0946,  0.0336],\n",
      "        [ 0.0768,  0.0786,  0.0756,  ...,  0.0845, -0.1243, -0.1155]],\n",
      "       requires_grad=True)\n"
     ]
    }
   ],
   "source": [
    "print(model.layers[0].weight)"
   ]
  },
  {
   "cell_type": "code",
   "execution_count": null,
   "id": "cce2bd33-fffa-4e0d-bb0a-a5fbbd04d536",
   "metadata": {},
   "outputs": [],
   "source": []
  },
  {
   "cell_type": "code",
   "execution_count": 42,
   "id": "dbfac2a6-a0f2-45fb-b157-eec8d0f84b58",
   "metadata": {},
   "outputs": [
    {
     "name": "stdout",
     "output_type": "stream",
     "text": [
      "torch.Size([30, 50])\n"
     ]
    }
   ],
   "source": [
    "print(model.layers[0].weight.shape)"
   ]
  },
  {
   "cell_type": "code",
   "execution_count": 44,
   "id": "74aae2db-cb4a-4004-865a-dc81e6d7d900",
   "metadata": {},
   "outputs": [
    {
     "name": "stdout",
     "output_type": "stream",
     "text": [
      "torch.Size([30])\n"
     ]
    }
   ],
   "source": [
    "print(model.layers[0].bias.shape)"
   ]
  },
  {
   "cell_type": "code",
   "execution_count": 45,
   "id": "3cc97e10-2373-4009-bac2-0f0817d6fdfc",
   "metadata": {},
   "outputs": [
    {
     "name": "stdout",
     "output_type": "stream",
     "text": [
      "tensor([[-0.0835,  0.0365,  0.0126]], grad_fn=<AddmmBackward0>)\n"
     ]
    }
   ],
   "source": [
    "torch.manual_seed(123)\n",
    "\n",
    "X = torch.rand((1,50))\n",
    "out = model(X)\n",
    "print(out)"
   ]
  },
  {
   "cell_type": "code",
   "execution_count": 46,
   "id": "dc5462a3-4b73-4b3a-868d-71dda38902ef",
   "metadata": {},
   "outputs": [
    {
     "name": "stdout",
     "output_type": "stream",
     "text": [
      "tensor([[-0.0835,  0.0365,  0.0126]])\n"
     ]
    }
   ],
   "source": [
    "with torch.no_grad():\n",
    "    out = model(X)\n",
    "print(out)"
   ]
  },
  {
   "cell_type": "code",
   "execution_count": 47,
   "id": "8cae2ebd-c2e9-49b5-8b0c-4d2a7146237a",
   "metadata": {},
   "outputs": [
    {
     "name": "stdout",
     "output_type": "stream",
     "text": [
      "tensor([[0.3098, 0.3492, 0.3410]])\n"
     ]
    }
   ],
   "source": [
    "with torch.no_grad():\n",
    "    out = torch.softmax(model(X), dim = 1)\n",
    "print(out)"
   ]
  },
  {
   "cell_type": "markdown",
   "id": "7b9036bf-f5be-4962-ba4a-2d09e84c367f",
   "metadata": {},
   "source": [
    "## Setting up Dataloaders"
   ]
  },
  {
   "cell_type": "code",
   "execution_count": 48,
   "id": "bdc63ce1-2b91-4dd2-b8b9-377f539919dd",
   "metadata": {},
   "outputs": [],
   "source": [
    " # toy dataset\n",
    "X_train = torch.tensor([[-1.2, 3.1],\n",
    "           [-0.9, 2.9],\n",
    "           [-0.5, 2.6],\n",
    "           [2.3, -1.1],\n",
    "           [2.7, -1.5]])\n",
    "\n",
    "y_train = torch.tensor([0 , 0, 0, 1,1])\n",
    " X_test = torch.tensor([\n",
    "           [-0.8, 2.8],\n",
    "           [2.6, -1.6],\n",
    "       ])\n",
    "y_test = torch.tensor([0, 1])"
   ]
  },
  {
   "cell_type": "code",
   "execution_count": 64,
   "id": "4ff1891b-3584-4da9-880a-8bc15ea491dd",
   "metadata": {},
   "outputs": [],
   "source": [
    "from torch.utils.data import Dataset\n",
    "\n",
    "class ToyDataset(Dataset):\n",
    "    def __init__(self, X,y):\n",
    "        self.features = X\n",
    "        self.labels = y\n",
    "\n",
    "    def __getitem__(self, index):\n",
    "        one_x = self.features[index]\n",
    "        one_y = self.labels[index]\n",
    "        return one_x, one_y\n",
    "\n",
    "    def __len__(self):\n",
    "        return self.labels.shape[0]\n",
    "\n",
    "train_df = ToyDataset(X_train, y_train)\n",
    "test_df = ToyDataset(X_test, y_test)"
   ]
  },
  {
   "cell_type": "code",
   "execution_count": 59,
   "id": "bbeb8046-b56c-4ac8-b15e-6e6872194c10",
   "metadata": {},
   "outputs": [
    {
     "name": "stdout",
     "output_type": "stream",
     "text": [
      "5\n"
     ]
    }
   ],
   "source": [
    "print(len(train_df))"
   ]
  },
  {
   "cell_type": "code",
   "execution_count": 65,
   "id": "8def8d99-7aca-434a-a82f-0fe081bc7fd0",
   "metadata": {},
   "outputs": [],
   "source": [
    "# instantiating data loaders\n",
    "\n",
    "from torch.utils.data import DataLoader\n",
    "torch.manual_seed(123)\n",
    "\n",
    "train_loader = DataLoader(\n",
    "    dataset = train_df,\n",
    "    batch_size = 2,\n",
    "    shuffle = True,\n",
    "    num_workers = 0\n",
    ")"
   ]
  },
  {
   "cell_type": "code",
   "execution_count": 66,
   "id": "54e32ec4-6de4-4ae6-bd74-8e82a79a4a3d",
   "metadata": {},
   "outputs": [],
   "source": [
    "test_loader = DataLoader(\n",
    "    dataset = test_df,\n",
    "    batch_size = 2,\n",
    "    shuffle = False,\n",
    "    num_workers = 0\n",
    ")"
   ]
  },
  {
   "cell_type": "code",
   "execution_count": 69,
   "id": "07354530-887f-48a1-8c1d-3a80f08329a6",
   "metadata": {},
   "outputs": [
    {
     "name": "stdout",
     "output_type": "stream",
     "text": [
      "Batch 1: tensor([[-0.9000,  2.9000],\n",
      "        [ 2.3000, -1.1000]]) tensor([0, 1])\n",
      "Batch 2: tensor([[ 2.7000, -1.5000],\n",
      "        [-0.5000,  2.6000]]) tensor([1, 0])\n",
      "Batch 3: tensor([[-1.2000,  3.1000]]) tensor([0])\n"
     ]
    }
   ],
   "source": [
    "for idx, (x,y) in enumerate(train_loader):\n",
    "     print(f\"Batch {idx+1}:\", x, y)"
   ]
  },
  {
   "cell_type": "code",
   "execution_count": 71,
   "id": "61d5227a-90d6-4fa9-bc0a-e39013dc3a82",
   "metadata": {},
   "outputs": [],
   "source": [
    "train_loader = DataLoader(\n",
    "    dataset=train_ds,\n",
    "    batch_size=2,\n",
    "    shuffle=True,\n",
    "    num_workers=0,\n",
    "    drop_last=True   # drop last batch if not enought data to match batch size\n",
    ")"
   ]
  },
  {
   "cell_type": "code",
   "execution_count": 72,
   "id": "e1277162-d560-4152-ab68-f71bebcdc811",
   "metadata": {},
   "outputs": [
    {
     "name": "stdout",
     "output_type": "stream",
     "text": [
      "Batch 1: tensor([[ 2.3000, -1.1000],\n",
      "        [ 2.7000, -1.5000]]) tensor([1, 1])\n",
      "Batch 2: tensor([[-1.2000,  3.1000],\n",
      "        [-0.9000,  2.9000]]) tensor([0, 0])\n"
     ]
    }
   ],
   "source": [
    "for idx, (x, y) in enumerate(train_loader):\n",
    "    print(f\"Batch {idx+1}:\", x, y)"
   ]
  },
  {
   "cell_type": "markdown",
   "id": "4689eba1-391a-48dd-85c6-51b20566dadb",
   "metadata": {},
   "source": [
    "## Neural Network Training in Pytorch"
   ]
  },
  {
   "cell_type": "code",
   "execution_count": 74,
   "id": "b3f919fc-c124-438f-99d2-27735145aac4",
   "metadata": {},
   "outputs": [
    {
     "name": "stdout",
     "output_type": "stream",
     "text": [
      "Epoch: 001/003 | Batch 000/002 | Train/Val Loss: 0.75\n",
      "Epoch: 001/003 | Batch 001/002 | Train/Val Loss: 0.65\n",
      "Epoch: 002/003 | Batch 000/002 | Train/Val Loss: 0.44\n",
      "Epoch: 002/003 | Batch 001/002 | Train/Val Loss: 0.13\n",
      "Epoch: 003/003 | Batch 000/002 | Train/Val Loss: 0.03\n",
      "Epoch: 003/003 | Batch 001/002 | Train/Val Loss: 0.00\n"
     ]
    }
   ],
   "source": [
    "import torch.nn.functional as F\n",
    "\n",
    "torch.manual_seed(123)\n",
    "model = NeuralNetwork(num_inputs = 2, num_outputs = 2)\n",
    "optimizer = torch.optim.SGD(model.parameters(), lr=0.5)\n",
    "num_epochs = 3\n",
    "\n",
    "for epoch in range(num_epochs):\n",
    "    model.train()\n",
    "    for batch_idx, (features,labels) in enumerate(train_loader):\n",
    "        logits = model(features)\n",
    "\n",
    "        loss = F.cross_entropy(logits, labels) # loss function\n",
    "\n",
    "        optimizer.zero_grad()\n",
    "        loss.backward()\n",
    "        optimizer.step()\n",
    "\n",
    "        ### LOGGING\n",
    "        print(f\"Epoch: {epoch+1:03d}/{num_epochs:03d}\"\n",
    "              f\" | Batch {batch_idx:03d}/{len(train_loader):03d}\"\n",
    "              f\" | Train/Val Loss: {loss:.2f}\")\n",
    "\n",
    "    model.eval() #optional model evaluation\n",
    "        "
   ]
  },
  {
   "cell_type": "code",
   "execution_count": 75,
   "id": "aaa615db-6990-4988-89fc-b65df73d20ef",
   "metadata": {},
   "outputs": [
    {
     "name": "stdout",
     "output_type": "stream",
     "text": [
      "tensor([[ 2.8569, -4.1618],\n",
      "        [ 2.5382, -3.7548],\n",
      "        [ 2.0944, -3.1820],\n",
      "        [-1.4814,  1.4816],\n",
      "        [-1.7176,  1.7342]])\n"
     ]
    }
   ],
   "source": [
    "# predictions\n",
    "model.eval()\n",
    "with torch.no_grad():\n",
    "    outputs = model(X_train)\n",
    "print(outputs)"
   ]
  },
  {
   "cell_type": "code",
   "execution_count": 76,
   "id": "5fa372dc-2f7c-49f0-add5-616d718718f9",
   "metadata": {},
   "outputs": [
    {
     "name": "stdout",
     "output_type": "stream",
     "text": [
      "tensor([[    0.9991,     0.0009],\n",
      "        [    0.9982,     0.0018],\n",
      "        [    0.9949,     0.0051],\n",
      "        [    0.0491,     0.9509],\n",
      "        [    0.0307,     0.9693]])\n"
     ]
    }
   ],
   "source": [
    "# probabilities\n",
    "torch.set_printoptions(sci_mode = False)\n",
    "probas = torch.softmax(outputs, dim = 1)\n",
    "print(probas)"
   ]
  },
  {
   "cell_type": "code",
   "execution_count": 77,
   "id": "4cdb563b-55aa-4d0b-b845-c84736e02003",
   "metadata": {},
   "outputs": [
    {
     "name": "stdout",
     "output_type": "stream",
     "text": [
      "tensor([0, 0, 0, 1, 1])\n"
     ]
    }
   ],
   "source": [
    "predictions = torch.argmax(probas, dim = 1)\n",
    "print(predictions)"
   ]
  },
  {
   "cell_type": "code",
   "execution_count": 78,
   "id": "702c80f3-76ac-4c01-abbf-fefbf9be5a4f",
   "metadata": {},
   "outputs": [
    {
     "name": "stdout",
     "output_type": "stream",
     "text": [
      "tensor([0, 0, 0, 1, 1])\n"
     ]
    }
   ],
   "source": [
    "predictions = torch.argmax(outputs, dim = 1)\n",
    "print(predictions)"
   ]
  },
  {
   "cell_type": "code",
   "execution_count": 79,
   "id": "1ed5347e-8fc3-417c-a83e-85e381e3260d",
   "metadata": {},
   "outputs": [
    {
     "data": {
      "text/plain": [
       "tensor([True, True, True, True, True])"
      ]
     },
     "execution_count": 79,
     "metadata": {},
     "output_type": "execute_result"
    }
   ],
   "source": [
    "predictions == y_train"
   ]
  },
  {
   "cell_type": "code",
   "execution_count": 81,
   "id": "7ee82ba1-a680-41f8-8bd3-39b5d69b30a4",
   "metadata": {},
   "outputs": [
    {
     "data": {
      "text/plain": [
       "tensor(5)"
      ]
     },
     "execution_count": 81,
     "metadata": {},
     "output_type": "execute_result"
    }
   ],
   "source": [
    "torch.sum(predictions == y_train)"
   ]
  },
  {
   "cell_type": "code",
   "execution_count": 83,
   "id": "c0da0ea3-0a29-4e29-9d02-847c2ae9922f",
   "metadata": {},
   "outputs": [],
   "source": [
    "def compute_accuracy(model, dataloader):\n",
    "    model = model.eval()\n",
    "    correct = 0.0\n",
    "    total_examples = 0\n",
    "\n",
    "    for idx, (features, labels) in enumerate(dataloader):\n",
    "        with torch.no_grad():\n",
    "            logits = model(features)\n",
    "        predictions = torch.argmax(logits, dim = 1)\n",
    "        compare = labels == predictions\n",
    "        correct +=torch.sum(compare)\n",
    "        total_examples  +=len(compare)\n",
    "\n",
    "    return (correct /total_examples) .item()"
   ]
  },
  {
   "cell_type": "code",
   "execution_count": 84,
   "id": "9c77aa6a-923d-4518-bdc6-0efabb1a93b6",
   "metadata": {},
   "outputs": [
    {
     "name": "stdout",
     "output_type": "stream",
     "text": [
      "1.0\n"
     ]
    }
   ],
   "source": [
    "print(compute_accuracy(model,train_loader))"
   ]
  },
  {
   "cell_type": "code",
   "execution_count": 85,
   "id": "16f542ae-a8f9-49d9-87eb-7d4fffff365b",
   "metadata": {},
   "outputs": [
    {
     "name": "stdout",
     "output_type": "stream",
     "text": [
      "1.0\n"
     ]
    }
   ],
   "source": [
    "print(compute_accuracy(model,test_loader))"
   ]
  },
  {
   "cell_type": "markdown",
   "id": "3d45c969-3fca-45f9-90ae-329b4c5c21b5",
   "metadata": {},
   "source": [
    "## Saving and loading models"
   ]
  },
  {
   "cell_type": "code",
   "execution_count": 88,
   "id": "fd00ad4b-4570-4dea-aaaf-7c6a2084e3a6",
   "metadata": {},
   "outputs": [],
   "source": [
    "torch.save(model.state_dict(), \"model.pth\")"
   ]
  },
  {
   "cell_type": "code",
   "execution_count": 89,
   "id": "3efb2c34-9cca-4458-b1be-f99e5b1e903f",
   "metadata": {},
   "outputs": [
    {
     "name": "stderr",
     "output_type": "stream",
     "text": [
      "/var/folders/xy/l4m6vnmx3dv0p46qkb2h9s9m0000gn/T/ipykernel_34022/1839425069.py:3: FutureWarning: You are using `torch.load` with `weights_only=False` (the current default value), which uses the default pickle module implicitly. It is possible to construct malicious pickle data which will execute arbitrary code during unpickling (See https://github.com/pytorch/pytorch/blob/main/SECURITY.md#untrusted-models for more details). In a future release, the default value for `weights_only` will be flipped to `True`. This limits the functions that could be executed during unpickling. Arbitrary objects will no longer be allowed to be loaded via this mode unless they are explicitly allowlisted by the user via `torch.serialization.add_safe_globals`. We recommend you start setting `weights_only=True` for any use case where you don't have full control of the loaded file. Please open an issue on GitHub for any issues related to this experimental feature.\n",
      "  model.load_state_dict(torch.load(\"model.pth\"))\n"
     ]
    },
    {
     "data": {
      "text/plain": [
       "<All keys matched successfully>"
      ]
     },
     "execution_count": 89,
     "metadata": {},
     "output_type": "execute_result"
    }
   ],
   "source": [
    "# the NeuralNetwork(2, 2) architecture needs to match the original saved model exactly\n",
    "model = NeuralNetwork(2,2) \n",
    "model.load_state_dict(torch.load(\"model.pth\"))"
   ]
  }
 ],
 "metadata": {
  "kernelspec": {
   "display_name": "Python 3 (ipykernel)",
   "language": "python",
   "name": "python3"
  },
  "language_info": {
   "codemirror_mode": {
    "name": "ipython",
    "version": 3
   },
   "file_extension": ".py",
   "mimetype": "text/x-python",
   "name": "python",
   "nbconvert_exporter": "python",
   "pygments_lexer": "ipython3",
   "version": "3.10.16"
  }
 },
 "nbformat": 4,
 "nbformat_minor": 5
}
